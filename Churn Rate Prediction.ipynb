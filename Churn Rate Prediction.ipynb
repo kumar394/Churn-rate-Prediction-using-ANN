{
 "cells": [
  {
   "cell_type": "code",
   "execution_count": 1,
   "metadata": {},
   "outputs": [],
   "source": [
    "#importing the libraries\n",
    "import numpy as np\n",
    "import matplotlib.pyplot as plt\n",
    "import pandas as pd\n",
    "import os"
   ]
  },
  {
   "cell_type": "code",
   "execution_count": 2,
   "metadata": {},
   "outputs": [],
   "source": [
    "#working directory\n",
    "os.chdir(\"C:\\\\Users\\\\shive\\\\Desktop\\\\MS-BAIM\\\\Courses\\\\online courses\\\\A-Z Deep Learning\\\\Deep_Learning_A_Z\\\\Volume 1 - Supervised Deep Learning\\\\Part 1 - Artificial Neural Networks (ANN)\\\\Section 4 - Building an ANN\\\\Artificial_Neural_Networks\")"
   ]
  },
  {
   "cell_type": "markdown",
   "metadata": {},
   "source": [
    "# Data Preprocessing"
   ]
  },
  {
   "cell_type": "code",
   "execution_count": 3,
   "metadata": {},
   "outputs": [
    {
     "data": {
      "text/html": [
       "<div>\n",
       "<style scoped>\n",
       "    .dataframe tbody tr th:only-of-type {\n",
       "        vertical-align: middle;\n",
       "    }\n",
       "\n",
       "    .dataframe tbody tr th {\n",
       "        vertical-align: top;\n",
       "    }\n",
       "\n",
       "    .dataframe thead th {\n",
       "        text-align: right;\n",
       "    }\n",
       "</style>\n",
       "<table border=\"1\" class=\"dataframe\">\n",
       "  <thead>\n",
       "    <tr style=\"text-align: right;\">\n",
       "      <th></th>\n",
       "      <th>RowNumber</th>\n",
       "      <th>CustomerId</th>\n",
       "      <th>Surname</th>\n",
       "      <th>CreditScore</th>\n",
       "      <th>Geography</th>\n",
       "      <th>Gender</th>\n",
       "      <th>Age</th>\n",
       "      <th>Tenure</th>\n",
       "      <th>Balance</th>\n",
       "      <th>NumOfProducts</th>\n",
       "      <th>HasCrCard</th>\n",
       "      <th>IsActiveMember</th>\n",
       "      <th>EstimatedSalary</th>\n",
       "      <th>Exited</th>\n",
       "    </tr>\n",
       "  </thead>\n",
       "  <tbody>\n",
       "    <tr>\n",
       "      <th>0</th>\n",
       "      <td>1</td>\n",
       "      <td>15634602</td>\n",
       "      <td>Hargrave</td>\n",
       "      <td>619</td>\n",
       "      <td>France</td>\n",
       "      <td>Female</td>\n",
       "      <td>42</td>\n",
       "      <td>2</td>\n",
       "      <td>0.00</td>\n",
       "      <td>1</td>\n",
       "      <td>1</td>\n",
       "      <td>1</td>\n",
       "      <td>101348.88</td>\n",
       "      <td>1</td>\n",
       "    </tr>\n",
       "    <tr>\n",
       "      <th>1</th>\n",
       "      <td>2</td>\n",
       "      <td>15647311</td>\n",
       "      <td>Hill</td>\n",
       "      <td>608</td>\n",
       "      <td>Spain</td>\n",
       "      <td>Female</td>\n",
       "      <td>41</td>\n",
       "      <td>1</td>\n",
       "      <td>83807.86</td>\n",
       "      <td>1</td>\n",
       "      <td>0</td>\n",
       "      <td>1</td>\n",
       "      <td>112542.58</td>\n",
       "      <td>0</td>\n",
       "    </tr>\n",
       "    <tr>\n",
       "      <th>2</th>\n",
       "      <td>3</td>\n",
       "      <td>15619304</td>\n",
       "      <td>Onio</td>\n",
       "      <td>502</td>\n",
       "      <td>France</td>\n",
       "      <td>Female</td>\n",
       "      <td>42</td>\n",
       "      <td>8</td>\n",
       "      <td>159660.80</td>\n",
       "      <td>3</td>\n",
       "      <td>1</td>\n",
       "      <td>0</td>\n",
       "      <td>113931.57</td>\n",
       "      <td>1</td>\n",
       "    </tr>\n",
       "    <tr>\n",
       "      <th>3</th>\n",
       "      <td>4</td>\n",
       "      <td>15701354</td>\n",
       "      <td>Boni</td>\n",
       "      <td>699</td>\n",
       "      <td>France</td>\n",
       "      <td>Female</td>\n",
       "      <td>39</td>\n",
       "      <td>1</td>\n",
       "      <td>0.00</td>\n",
       "      <td>2</td>\n",
       "      <td>0</td>\n",
       "      <td>0</td>\n",
       "      <td>93826.63</td>\n",
       "      <td>0</td>\n",
       "    </tr>\n",
       "    <tr>\n",
       "      <th>4</th>\n",
       "      <td>5</td>\n",
       "      <td>15737888</td>\n",
       "      <td>Mitchell</td>\n",
       "      <td>850</td>\n",
       "      <td>Spain</td>\n",
       "      <td>Female</td>\n",
       "      <td>43</td>\n",
       "      <td>2</td>\n",
       "      <td>125510.82</td>\n",
       "      <td>1</td>\n",
       "      <td>1</td>\n",
       "      <td>1</td>\n",
       "      <td>79084.10</td>\n",
       "      <td>0</td>\n",
       "    </tr>\n",
       "  </tbody>\n",
       "</table>\n",
       "</div>"
      ],
      "text/plain": [
       "   RowNumber  CustomerId   Surname  CreditScore Geography  Gender  Age  \\\n",
       "0          1    15634602  Hargrave          619    France  Female   42   \n",
       "1          2    15647311      Hill          608     Spain  Female   41   \n",
       "2          3    15619304      Onio          502    France  Female   42   \n",
       "3          4    15701354      Boni          699    France  Female   39   \n",
       "4          5    15737888  Mitchell          850     Spain  Female   43   \n",
       "\n",
       "   Tenure    Balance  NumOfProducts  HasCrCard  IsActiveMember  \\\n",
       "0       2       0.00              1          1               1   \n",
       "1       1   83807.86              1          0               1   \n",
       "2       8  159660.80              3          1               0   \n",
       "3       1       0.00              2          0               0   \n",
       "4       2  125510.82              1          1               1   \n",
       "\n",
       "   EstimatedSalary  Exited  \n",
       "0        101348.88       1  \n",
       "1        112542.58       0  \n",
       "2        113931.57       1  \n",
       "3         93826.63       0  \n",
       "4         79084.10       0  "
      ]
     },
     "execution_count": 3,
     "metadata": {},
     "output_type": "execute_result"
    }
   ],
   "source": [
    "dataset= pd.read_csv(\"Churn_Modelling.csv\")\n",
    "dataset.head(5)"
   ]
  },
  {
   "cell_type": "code",
   "execution_count": 4,
   "metadata": {},
   "outputs": [
    {
     "data": {
      "text/plain": [
       "RowNumber          0\n",
       "CustomerId         0\n",
       "Surname            0\n",
       "CreditScore        0\n",
       "Geography          0\n",
       "Gender             0\n",
       "Age                0\n",
       "Tenure             0\n",
       "Balance            0\n",
       "NumOfProducts      0\n",
       "HasCrCard          0\n",
       "IsActiveMember     0\n",
       "EstimatedSalary    0\n",
       "Exited             0\n",
       "dtype: int64"
      ]
     },
     "execution_count": 4,
     "metadata": {},
     "output_type": "execute_result"
    }
   ],
   "source": [
    "dataset.isnull().sum()"
   ]
  },
  {
   "cell_type": "code",
   "execution_count": 5,
   "metadata": {},
   "outputs": [
    {
     "data": {
      "text/plain": [
       "0    7963\n",
       "1    2037\n",
       "Name: Exited, dtype: int64"
      ]
     },
     "execution_count": 5,
     "metadata": {},
     "output_type": "execute_result"
    }
   ],
   "source": [
    "dataset['Exited'].value_counts()"
   ]
  },
  {
   "cell_type": "code",
   "execution_count": 6,
   "metadata": {},
   "outputs": [],
   "source": [
    "#creating dummy variables\n",
    "geography= pd.get_dummies(dataset[\"Geography\"], drop_first= True)\n",
    "#geography.head(5)\n",
    "gender= pd.get_dummies(dataset[\"Gender\"], drop_first= True)"
   ]
  },
  {
   "cell_type": "code",
   "execution_count": 7,
   "metadata": {},
   "outputs": [
    {
     "data": {
      "text/html": [
       "<div>\n",
       "<style scoped>\n",
       "    .dataframe tbody tr th:only-of-type {\n",
       "        vertical-align: middle;\n",
       "    }\n",
       "\n",
       "    .dataframe tbody tr th {\n",
       "        vertical-align: top;\n",
       "    }\n",
       "\n",
       "    .dataframe thead th {\n",
       "        text-align: right;\n",
       "    }\n",
       "</style>\n",
       "<table border=\"1\" class=\"dataframe\">\n",
       "  <thead>\n",
       "    <tr style=\"text-align: right;\">\n",
       "      <th></th>\n",
       "      <th>Male</th>\n",
       "      <th>Germany</th>\n",
       "      <th>Spain</th>\n",
       "      <th>CreditScore</th>\n",
       "      <th>Age</th>\n",
       "      <th>Tenure</th>\n",
       "      <th>Balance</th>\n",
       "      <th>NumOfProducts</th>\n",
       "      <th>HasCrCard</th>\n",
       "      <th>IsActiveMember</th>\n",
       "      <th>EstimatedSalary</th>\n",
       "      <th>Exited</th>\n",
       "    </tr>\n",
       "  </thead>\n",
       "  <tbody>\n",
       "    <tr>\n",
       "      <th>0</th>\n",
       "      <td>0</td>\n",
       "      <td>0</td>\n",
       "      <td>0</td>\n",
       "      <td>619</td>\n",
       "      <td>42</td>\n",
       "      <td>2</td>\n",
       "      <td>0.00</td>\n",
       "      <td>1</td>\n",
       "      <td>1</td>\n",
       "      <td>1</td>\n",
       "      <td>101348.88</td>\n",
       "      <td>1</td>\n",
       "    </tr>\n",
       "    <tr>\n",
       "      <th>1</th>\n",
       "      <td>0</td>\n",
       "      <td>0</td>\n",
       "      <td>1</td>\n",
       "      <td>608</td>\n",
       "      <td>41</td>\n",
       "      <td>1</td>\n",
       "      <td>83807.86</td>\n",
       "      <td>1</td>\n",
       "      <td>0</td>\n",
       "      <td>1</td>\n",
       "      <td>112542.58</td>\n",
       "      <td>0</td>\n",
       "    </tr>\n",
       "    <tr>\n",
       "      <th>2</th>\n",
       "      <td>0</td>\n",
       "      <td>0</td>\n",
       "      <td>0</td>\n",
       "      <td>502</td>\n",
       "      <td>42</td>\n",
       "      <td>8</td>\n",
       "      <td>159660.80</td>\n",
       "      <td>3</td>\n",
       "      <td>1</td>\n",
       "      <td>0</td>\n",
       "      <td>113931.57</td>\n",
       "      <td>1</td>\n",
       "    </tr>\n",
       "    <tr>\n",
       "      <th>3</th>\n",
       "      <td>0</td>\n",
       "      <td>0</td>\n",
       "      <td>0</td>\n",
       "      <td>699</td>\n",
       "      <td>39</td>\n",
       "      <td>1</td>\n",
       "      <td>0.00</td>\n",
       "      <td>2</td>\n",
       "      <td>0</td>\n",
       "      <td>0</td>\n",
       "      <td>93826.63</td>\n",
       "      <td>0</td>\n",
       "    </tr>\n",
       "    <tr>\n",
       "      <th>4</th>\n",
       "      <td>0</td>\n",
       "      <td>0</td>\n",
       "      <td>1</td>\n",
       "      <td>850</td>\n",
       "      <td>43</td>\n",
       "      <td>2</td>\n",
       "      <td>125510.82</td>\n",
       "      <td>1</td>\n",
       "      <td>1</td>\n",
       "      <td>1</td>\n",
       "      <td>79084.10</td>\n",
       "      <td>0</td>\n",
       "    </tr>\n",
       "  </tbody>\n",
       "</table>\n",
       "</div>"
      ],
      "text/plain": [
       "   Male  Germany  Spain  CreditScore  Age  Tenure    Balance  NumOfProducts  \\\n",
       "0     0        0      0          619   42       2       0.00              1   \n",
       "1     0        0      1          608   41       1   83807.86              1   \n",
       "2     0        0      0          502   42       8  159660.80              3   \n",
       "3     0        0      0          699   39       1       0.00              2   \n",
       "4     0        0      1          850   43       2  125510.82              1   \n",
       "\n",
       "   HasCrCard  IsActiveMember  EstimatedSalary  Exited  \n",
       "0          1               1        101348.88       1  \n",
       "1          0               1        112542.58       0  \n",
       "2          1               0        113931.57       1  \n",
       "3          0               0         93826.63       0  \n",
       "4          1               1         79084.10       0  "
      ]
     },
     "execution_count": 7,
     "metadata": {},
     "output_type": "execute_result"
    }
   ],
   "source": [
    "#dropping irrelevant columns and concatinating created dummy variables\n",
    "dataset= dataset.drop([\"Geography\", \"Gender\", \"RowNumber\", \"CustomerId\", \"Surname\"], axis=1)\n",
    "dataset= pd.concat([geography, dataset], axis=1)\n",
    "dataset= pd.concat([gender, dataset], axis=1)\n",
    "dataset.head(5)"
   ]
  },
  {
   "cell_type": "code",
   "execution_count": 8,
   "metadata": {},
   "outputs": [
    {
     "data": {
      "text/plain": [
       "12"
      ]
     },
     "execution_count": 8,
     "metadata": {},
     "output_type": "execute_result"
    }
   ],
   "source": [
    "len(dataset.columns)"
   ]
  },
  {
   "cell_type": "code",
   "execution_count": 9,
   "metadata": {},
   "outputs": [],
   "source": [
    "#filtering parameters which might affect churn rate based on business intuition\n",
    "x= dataset.iloc[:, :11].values\n",
    "y= dataset.iloc[:, 11].values"
   ]
  },
  {
   "cell_type": "code",
   "execution_count": 10,
   "metadata": {},
   "outputs": [
    {
     "data": {
      "text/plain": [
       "array([[0.0000000e+00, 0.0000000e+00, 0.0000000e+00, 6.1900000e+02,\n",
       "        4.2000000e+01, 2.0000000e+00, 0.0000000e+00, 1.0000000e+00,\n",
       "        1.0000000e+00, 1.0000000e+00, 1.0134888e+05],\n",
       "       [0.0000000e+00, 0.0000000e+00, 1.0000000e+00, 6.0800000e+02,\n",
       "        4.1000000e+01, 1.0000000e+00, 8.3807860e+04, 1.0000000e+00,\n",
       "        0.0000000e+00, 1.0000000e+00, 1.1254258e+05],\n",
       "       [0.0000000e+00, 0.0000000e+00, 0.0000000e+00, 5.0200000e+02,\n",
       "        4.2000000e+01, 8.0000000e+00, 1.5966080e+05, 3.0000000e+00,\n",
       "        1.0000000e+00, 0.0000000e+00, 1.1393157e+05],\n",
       "       [0.0000000e+00, 0.0000000e+00, 0.0000000e+00, 6.9900000e+02,\n",
       "        3.9000000e+01, 1.0000000e+00, 0.0000000e+00, 2.0000000e+00,\n",
       "        0.0000000e+00, 0.0000000e+00, 9.3826630e+04],\n",
       "       [0.0000000e+00, 0.0000000e+00, 1.0000000e+00, 8.5000000e+02,\n",
       "        4.3000000e+01, 2.0000000e+00, 1.2551082e+05, 1.0000000e+00,\n",
       "        1.0000000e+00, 1.0000000e+00, 7.9084100e+04]])"
      ]
     },
     "execution_count": 10,
     "metadata": {},
     "output_type": "execute_result"
    }
   ],
   "source": [
    "x[:5]"
   ]
  },
  {
   "cell_type": "code",
   "execution_count": 11,
   "metadata": {},
   "outputs": [
    {
     "data": {
      "text/plain": [
       "array([1, 0, 1, 0, 0], dtype=int64)"
      ]
     },
     "execution_count": 11,
     "metadata": {},
     "output_type": "execute_result"
    }
   ],
   "source": [
    "y[:5]"
   ]
  },
  {
   "cell_type": "code",
   "execution_count": 12,
   "metadata": {},
   "outputs": [],
   "source": [
    "#Splitting the dataset into training ans test set\n",
    "from sklearn.model_selection import train_test_split\n",
    "x_train, x_test, y_train, y_test = train_test_split (x,y, test_size=0.2, random_state= 0)"
   ]
  },
  {
   "cell_type": "code",
   "execution_count": 13,
   "metadata": {},
   "outputs": [
    {
     "data": {
      "text/plain": [
       "array([[0.0000000e+00, 0.0000000e+00, 1.0000000e+00, 6.6700000e+02,\n",
       "        3.4000000e+01, 5.0000000e+00, 0.0000000e+00, 2.0000000e+00,\n",
       "        1.0000000e+00, 0.0000000e+00, 1.6383064e+05],\n",
       "       [1.0000000e+00, 1.0000000e+00, 0.0000000e+00, 4.2700000e+02,\n",
       "        4.2000000e+01, 1.0000000e+00, 7.5681520e+04, 1.0000000e+00,\n",
       "        1.0000000e+00, 1.0000000e+00, 5.7098000e+04],\n",
       "       [0.0000000e+00, 0.0000000e+00, 0.0000000e+00, 5.3500000e+02,\n",
       "        2.9000000e+01, 2.0000000e+00, 1.1236734e+05, 1.0000000e+00,\n",
       "        1.0000000e+00, 0.0000000e+00, 1.8563076e+05],\n",
       "       [1.0000000e+00, 0.0000000e+00, 1.0000000e+00, 6.5400000e+02,\n",
       "        4.0000000e+01, 5.0000000e+00, 1.0568363e+05, 1.0000000e+00,\n",
       "        1.0000000e+00, 0.0000000e+00, 1.7361709e+05],\n",
       "       [0.0000000e+00, 0.0000000e+00, 1.0000000e+00, 8.5000000e+02,\n",
       "        5.7000000e+01, 8.0000000e+00, 1.2677630e+05, 2.0000000e+00,\n",
       "        1.0000000e+00, 1.0000000e+00, 1.3229849e+05]])"
      ]
     },
     "execution_count": 13,
     "metadata": {},
     "output_type": "execute_result"
    }
   ],
   "source": [
    "x_train[:5]"
   ]
  },
  {
   "cell_type": "code",
   "execution_count": 14,
   "metadata": {},
   "outputs": [
    {
     "data": {
      "text/plain": [
       "array([0, 0, 0, 0, 0], dtype=int64)"
      ]
     },
     "execution_count": 14,
     "metadata": {},
     "output_type": "execute_result"
    }
   ],
   "source": [
    "y_train[:5]"
   ]
  },
  {
   "cell_type": "code",
   "execution_count": 15,
   "metadata": {},
   "outputs": [],
   "source": [
    "#Feature Scaling\n",
    "from sklearn.preprocessing import StandardScaler\n",
    "sc= StandardScaler()\n",
    "x_train= sc.fit_transform(x_train)\n",
    "x_test= sc.transform(x_test)"
   ]
  },
  {
   "cell_type": "code",
   "execution_count": 16,
   "metadata": {},
   "outputs": [
    {
     "data": {
      "text/plain": [
       "(array([[-1.09168714, -0.5698444 ,  1.74309049,  0.16958176, -0.46460796,\n",
       "          0.00666099, -1.21571749,  0.8095029 ,  0.64259497, -1.03227043,\n",
       "          1.10643166],\n",
       "        [ 0.91601335,  1.75486502, -0.57369368, -2.30455945,  0.30102557,\n",
       "         -1.37744033, -0.00631193, -0.92159124,  0.64259497,  0.9687384 ,\n",
       "         -0.74866447],\n",
       "        [-1.09168714, -0.5698444 , -0.57369368, -1.19119591, -0.94312892,\n",
       "         -1.031415  ,  0.57993469, -0.92159124,  0.64259497, -1.03227043,\n",
       "          1.48533467],\n",
       "        [ 0.91601335, -0.5698444 ,  1.74309049,  0.03556578,  0.10961719,\n",
       "          0.00666099,  0.47312769, -0.92159124,  0.64259497, -1.03227043,\n",
       "          1.27652776],\n",
       "        [-1.09168714, -0.5698444 ,  1.74309049,  2.05611444,  1.73658844,\n",
       "          1.04473698,  0.8101927 ,  0.8095029 ,  0.64259497,  0.9687384 ,\n",
       "          0.55837842]]),\n",
       " array([[-1.09168714,  1.75486502, -0.57369368, -0.55204276, -0.36890377,\n",
       "          1.04473698,  0.8793029 , -0.92159124,  0.64259497,  0.9687384 ,\n",
       "          1.61085707],\n",
       "        [-1.09168714, -0.5698444 , -0.57369368, -1.31490297,  0.10961719,\n",
       "         -1.031415  ,  0.42972196, -0.92159124,  0.64259497, -1.03227043,\n",
       "          0.49587037],\n",
       "        [-1.09168714, -0.5698444 ,  1.74309049,  0.57162971,  0.30102557,\n",
       "          1.04473698,  0.30858264, -0.92159124,  0.64259497,  0.9687384 ,\n",
       "         -0.42478674],\n",
       "        [ 0.91601335, -0.5698444 , -0.57369368,  1.41696129, -0.65601634,\n",
       "         -0.33936434,  0.57533623, -0.92159124, -1.55619021, -1.03227043,\n",
       "         -0.18777657],\n",
       "        [ 0.91601335,  1.75486502, -0.57369368,  0.57162971, -0.08179119,\n",
       "          0.00666099,  1.38961097,  0.8095029 ,  0.64259497,  0.9687384 ,\n",
       "          0.61684179]]))"
      ]
     },
     "execution_count": 16,
     "metadata": {},
     "output_type": "execute_result"
    }
   ],
   "source": [
    "x_train[:5], x_test[:5]"
   ]
  },
  {
   "cell_type": "markdown",
   "metadata": {},
   "source": [
    "# Building ANN Model"
   ]
  },
  {
   "cell_type": "code",
   "execution_count": 57,
   "metadata": {},
   "outputs": [],
   "source": [
    "import keras\n",
    "from keras.models import Sequential\n",
    "from keras.layers import Dense\n",
    "from keras.layers import Dropout"
   ]
  },
  {
   "cell_type": "code",
   "execution_count": 18,
   "metadata": {},
   "outputs": [],
   "source": [
    "#initializing the ANN\n",
    "ann_classifier= Sequential()\n",
    "#adding input layers and hidden layers\n",
    "ann_classifier.add(Dense(6, activation= \"relu\", kernel_initializer= \"uniform\", input_shape= (11,)))\n",
    "ann_classifier.add(Dropout(p= 0.1))\n",
    "#adding second hidden layers\n",
    "ann_classifier.add(Dense(6, activation= \"relu\", kernel_initializer= \"uniform\"))\n",
    "ann_classifier.add(Dropout(p= 0.1))\n",
    "#adding the output layer\n",
    "ann_classifier.add(Dense(1, activation= \"sigmoid\", kernel_initializer= \"uniform\"))\n",
    "#compiling the ANN\n",
    "ann_classifier.compile(optimizer=\"adam\", loss= \"binary_crossentropy\", metrics= [\"accuracy\"])"
   ]
  },
  {
   "cell_type": "code",
   "execution_count": 19,
   "metadata": {},
   "outputs": [
    {
     "name": "stdout",
     "output_type": "stream",
     "text": [
      "Epoch 1/100\n",
      "8000/8000 [==============================] - 1s 107us/step - loss: 0.4803 - accuracy: 0.7960\n",
      "Epoch 2/100\n",
      "8000/8000 [==============================] - 1s 92us/step - loss: 0.4273 - accuracy: 0.7960\n",
      "Epoch 3/100\n",
      "8000/8000 [==============================] - 1s 97us/step - loss: 0.4220 - accuracy: 0.8006\n",
      "Epoch 4/100\n",
      "8000/8000 [==============================] - 1s 98us/step - loss: 0.4182 - accuracy: 0.8244 0s - loss: 0.4187 - accu\n",
      "Epoch 5/100\n",
      "8000/8000 [==============================] - 1s 85us/step - loss: 0.4163 - accuracy: 0.8284\n",
      "Epoch 6/100\n",
      "8000/8000 [==============================] - 1s 77us/step - loss: 0.4141 - accuracy: 0.8316 0s - loss: 0.4134 - accuracy: 0.\n",
      "Epoch 7/100\n",
      "8000/8000 [==============================] - 1s 76us/step - loss: 0.4132 - accuracy: 0.8316\n",
      "Epoch 8/100\n",
      "8000/8000 [==============================] - 1s 77us/step - loss: 0.4117 - accuracy: 0.8350\n",
      "Epoch 9/100\n",
      "8000/8000 [==============================] - 1s 78us/step - loss: 0.4105 - accuracy: 0.8346\n",
      "Epoch 10/100\n",
      "8000/8000 [==============================] - 1s 85us/step - loss: 0.4100 - accuracy: 0.8325\n",
      "Epoch 11/100\n",
      "8000/8000 [==============================] - 1s 90us/step - loss: 0.4089 - accuracy: 0.8340\n",
      "Epoch 12/100\n",
      "8000/8000 [==============================] - 1s 79us/step - loss: 0.4084 - accuracy: 0.8341\n",
      "Epoch 13/100\n",
      "8000/8000 [==============================] - 1s 78us/step - loss: 0.4074 - accuracy: 0.8349\n",
      "Epoch 14/100\n",
      "8000/8000 [==============================] - 1s 87us/step - loss: 0.4069 - accuracy: 0.8345\n",
      "Epoch 15/100\n",
      "8000/8000 [==============================] - 1s 96us/step - loss: 0.4063 - accuracy: 0.8347\n",
      "Epoch 16/100\n",
      "8000/8000 [==============================] - 1s 80us/step - loss: 0.4059 - accuracy: 0.8340 0s - loss: 0.4030 - ac\n",
      "Epoch 17/100\n",
      "8000/8000 [==============================] - 1s 78us/step - loss: 0.4060 - accuracy: 0.8347\n",
      "Epoch 18/100\n",
      "8000/8000 [==============================] - 1s 97us/step - loss: 0.4050 - accuracy: 0.8350\n",
      "Epoch 19/100\n",
      "8000/8000 [==============================] - ETA: 0s - loss: 0.4015 - accuracy: 0.8371 ETA: 0s - loss: 0.4034  - 1s 93us/step - loss: 0.4046 - accuracy: 0.8349\n",
      "Epoch 20/100\n",
      "8000/8000 [==============================] - 1s 77us/step - loss: 0.4045 - accuracy: 0.8347\n",
      "Epoch 21/100\n",
      "8000/8000 [==============================] - 1s 88us/step - loss: 0.4045 - accuracy: 0.8342\n",
      "Epoch 22/100\n",
      "8000/8000 [==============================] - 1s 91us/step - loss: 0.4038 - accuracy: 0.8339\n",
      "Epoch 23/100\n",
      "8000/8000 [==============================] - 1s 77us/step - loss: 0.4034 - accuracy: 0.8341\n",
      "Epoch 24/100\n",
      "8000/8000 [==============================] - 1s 77us/step - loss: 0.4035 - accuracy: 0.8339\n",
      "Epoch 25/100\n",
      "8000/8000 [==============================] - 1s 87us/step - loss: 0.4035 - accuracy: 0.8341\n",
      "Epoch 26/100\n",
      "8000/8000 [==============================] - 1s 87us/step - loss: 0.4033 - accuracy: 0.8345\n",
      "Epoch 27/100\n",
      "8000/8000 [==============================] - 1s 87us/step - loss: 0.4031 - accuracy: 0.8351 0s - loss: 0.4048 - accura - ETA: 0s - loss: 0.3999 - ac\n",
      "Epoch 28/100\n",
      "8000/8000 [==============================] - 1s 84us/step - loss: 0.4029 - accuracy: 0.8342 0s - loss: 0.3937 \n",
      "Epoch 29/100\n",
      "8000/8000 [==============================] - ETA: 0s - loss: 0.4020 - accuracy: 0.83 - 1s 88us/step - loss: 0.4027 - accuracy: 0.8331\n",
      "Epoch 30/100\n",
      "8000/8000 [==============================] - 1s 96us/step - loss: 0.4024 - accuracy: 0.8341\n",
      "Epoch 31/100\n",
      "8000/8000 [==============================] - 1s 76us/step - loss: 0.4027 - accuracy: 0.8341 0s - loss: 0.4033 - accuracy: 0.83\n",
      "Epoch 32/100\n",
      "8000/8000 [==============================] - ETA: 0s - loss: 0.4036 - accuracy: 0.83 - 1s 74us/step - loss: 0.4021 - accuracy: 0.8346\n",
      "Epoch 33/100\n",
      "8000/8000 [==============================] - 1s 75us/step - loss: 0.4027 - accuracy: 0.8342 0s - loss: 0.4011 - accuracy: 0.\n",
      "Epoch 34/100\n",
      "8000/8000 [==============================] - 1s 91us/step - loss: 0.4018 - accuracy: 0.8335\n",
      "Epoch 35/100\n",
      "8000/8000 [==============================] - 1s 82us/step - loss: 0.4025 - accuracy: 0.8351\n",
      "Epoch 36/100\n",
      "8000/8000 [==============================] - ETA: 0s - loss: 0.4020 - accuracy: 0.83 - 1s 81us/step - loss: 0.4023 - accuracy: 0.8339\n",
      "Epoch 37/100\n",
      "8000/8000 [==============================] - 1s 76us/step - loss: 0.4018 - accuracy: 0.8353 0s - loss: 0.4205 - accuracy - ETA: 0s - loss: 0.3968 - ac\n",
      "Epoch 38/100\n",
      "8000/8000 [==============================] - 1s 74us/step - loss: 0.4018 - accuracy: 0.8361\n",
      "Epoch 39/100\n",
      "8000/8000 [==============================] - 1s 75us/step - loss: 0.4018 - accuracy: 0.8341\n",
      "Epoch 40/100\n",
      "8000/8000 [==============================] - 1s 74us/step - loss: 0.4016 - accuracy: 0.8342\n",
      "Epoch 41/100\n",
      "8000/8000 [==============================] - 1s 74us/step - loss: 0.4018 - accuracy: 0.8342\n",
      "Epoch 42/100\n",
      "8000/8000 [==============================] - 1s 74us/step - loss: 0.4013 - accuracy: 0.8353\n",
      "Epoch 43/100\n",
      "8000/8000 [==============================] - 1s 75us/step - loss: 0.4014 - accuracy: 0.8344 0s - loss: 0.3975 - accu\n",
      "Epoch 44/100\n",
      "8000/8000 [==============================] - 1s 74us/step - loss: 0.4014 - accuracy: 0.8339 0s - loss: 0.4018 - accuracy: \n",
      "Epoch 45/100\n",
      "8000/8000 [==============================] - 1s 75us/step - loss: 0.4014 - accuracy: 0.8361\n",
      "Epoch 46/100\n",
      "8000/8000 [==============================] - 1s 76us/step - loss: 0.4015 - accuracy: 0.8367\n",
      "Epoch 47/100\n",
      "8000/8000 [==============================] - 1s 84us/step - loss: 0.4017 - accuracy: 0.8339\n",
      "Epoch 48/100\n",
      "8000/8000 [==============================] - ETA: 0s - loss: 0.4022 - accuracy: 0.83 - 1s 75us/step - loss: 0.4010 - accuracy: 0.8342\n",
      "Epoch 49/100\n",
      "8000/8000 [==============================] - 1s 75us/step - loss: 0.4016 - accuracy: 0.8324\n",
      "Epoch 50/100\n",
      "8000/8000 [==============================] - 1s 74us/step - loss: 0.4009 - accuracy: 0.8342 0s - loss: 0.3965 \n",
      "Epoch 51/100\n",
      "8000/8000 [==============================] - 1s 76us/step - loss: 0.4012 - accuracy: 0.8361\n",
      "Epoch 52/100\n",
      "8000/8000 [==============================] - 1s 73us/step - loss: 0.4013 - accuracy: 0.8346\n",
      "Epoch 53/100\n",
      "8000/8000 [==============================] - 1s 74us/step - loss: 0.4012 - accuracy: 0.8344 0s - loss: 0.3989 - accuracy: 0.\n",
      "Epoch 54/100\n",
      "8000/8000 [==============================] - 1s 74us/step - loss: 0.4010 - accuracy: 0.8341\n",
      "Epoch 55/100\n",
      "8000/8000 [==============================] - 1s 74us/step - loss: 0.4013 - accuracy: 0.8353 0s - loss: 0.3984 \n",
      "Epoch 56/100\n",
      "8000/8000 [==============================] - 1s 74us/step - loss: 0.4009 - accuracy: 0.8367 0s - loss: 0.4115 - accuracy - ETA: 0s - loss: 0.4034 - accuracy: \n",
      "Epoch 57/100\n",
      "8000/8000 [==============================] - 1s 74us/step - loss: 0.4012 - accuracy: 0.8321 0s - loss: 0.4309 \n",
      "Epoch 58/100\n",
      "8000/8000 [==============================] - ETA: 0s - loss: 0.4023 - accuracy: 0.83 - 1s 74us/step - loss: 0.4008 - accuracy: 0.8326\n",
      "Epoch 59/100\n",
      "8000/8000 [==============================] - 1s 74us/step - loss: 0.4009 - accuracy: 0.8344\n",
      "Epoch 60/100\n",
      "8000/8000 [==============================] - 1s 74us/step - loss: 0.4010 - accuracy: 0.8357\n",
      "Epoch 61/100\n",
      "8000/8000 [==============================] - ETA: 0s - loss: 0.4011 - accuracy: 0.8326 ETA: 0s - loss: 0.3982 - accu - 1s 74us/step - loss: 0.4004 - accuracy: 0.8336\n",
      "Epoch 62/100\n",
      "8000/8000 [==============================] - 1s 74us/step - loss: 0.4006 - accuracy: 0.8332\n",
      "Epoch 63/100\n",
      "8000/8000 [==============================] - 1s 84us/step - loss: 0.4007 - accuracy: 0.8345\n",
      "Epoch 64/100\n",
      "8000/8000 [==============================] - 1s 74us/step - loss: 0.4004 - accuracy: 0.8363\n",
      "Epoch 65/100\n",
      "8000/8000 [==============================] - 1s 74us/step - loss: 0.4011 - accuracy: 0.8349\n",
      "Epoch 66/100\n",
      "8000/8000 [==============================] - 1s 74us/step - loss: 0.4006 - accuracy: 0.8342\n",
      "Epoch 67/100\n",
      "8000/8000 [==============================] - 1s 81us/step - loss: 0.4004 - accuracy: 0.8351 0s - loss: 0.4016 - accuracy: \n",
      "Epoch 68/100\n",
      "8000/8000 [==============================] - 1s 74us/step - loss: 0.4005 - accuracy: 0.8364 0s - loss: 0.4\n",
      "Epoch 69/100\n",
      "8000/8000 [==============================] - 1s 75us/step - loss: 0.4007 - accuracy: 0.8350\n",
      "Epoch 70/100\n"
     ]
    },
    {
     "name": "stdout",
     "output_type": "stream",
     "text": [
      "8000/8000 [==============================] - 1s 82us/step - loss: 0.3999 - accuracy: 0.8347 0s - loss: 0.4064 - accu\n",
      "Epoch 71/100\n",
      "8000/8000 [==============================] - 1s 76us/step - loss: 0.4007 - accuracy: 0.8347\n",
      "Epoch 72/100\n",
      "8000/8000 [==============================] - 1s 85us/step - loss: 0.4001 - accuracy: 0.8363\n",
      "Epoch 73/100\n",
      "8000/8000 [==============================] - 1s 86us/step - loss: 0.3999 - accuracy: 0.8340\n",
      "Epoch 74/100\n",
      "8000/8000 [==============================] - 1s 82us/step - loss: 0.4006 - accuracy: 0.8350\n",
      "Epoch 75/100\n",
      "8000/8000 [==============================] - 1s 73us/step - loss: 0.4000 - accuracy: 0.8345\n",
      "Epoch 76/100\n",
      "8000/8000 [==============================] - 1s 74us/step - loss: 0.4003 - accuracy: 0.8341 0s - loss: 0.3914 - accuracy: 0.83 - ETA: 0s - loss: 0.389\n",
      "Epoch 77/100\n",
      "8000/8000 [==============================] - 1s 76us/step - loss: 0.4004 - accuracy: 0.8339 0s - loss: 0.394\n",
      "Epoch 78/100\n",
      "8000/8000 [==============================] - 1s 74us/step - loss: 0.3998 - accuracy: 0.8341\n",
      "Epoch 79/100\n",
      "8000/8000 [==============================] - 1s 73us/step - loss: 0.4001 - accuracy: 0.8354\n",
      "Epoch 80/100\n",
      "8000/8000 [==============================] - ETA: 0s - loss: 0.4022 - accuracy: 0.83 - 1s 74us/step - loss: 0.4001 - accuracy: 0.8344\n",
      "Epoch 81/100\n",
      "8000/8000 [==============================] - 1s 73us/step - loss: 0.4006 - accuracy: 0.8346\n",
      "Epoch 82/100\n",
      "8000/8000 [==============================] - 1s 74us/step - loss: 0.4003 - accuracy: 0.8347\n",
      "Epoch 83/100\n",
      "8000/8000 [==============================] - 1s 74us/step - loss: 0.3999 - accuracy: 0.8340 0s - loss: 0.4003 - accuracy: 0.\n",
      "Epoch 84/100\n",
      "8000/8000 [==============================] - 1s 73us/step - loss: 0.4002 - accuracy: 0.8347\n",
      "Epoch 85/100\n",
      "8000/8000 [==============================] - 1s 74us/step - loss: 0.4006 - accuracy: 0.8351 0s - loss: 0.4006 - accuracy\n",
      "Epoch 86/100\n",
      "8000/8000 [==============================] - 1s 73us/step - loss: 0.4001 - accuracy: 0.8336\n",
      "Epoch 87/100\n",
      "8000/8000 [==============================] - 1s 73us/step - loss: 0.3997 - accuracy: 0.8341 0s - loss: 0.3854 \n",
      "Epoch 88/100\n",
      "8000/8000 [==============================] - 1s 73us/step - loss: 0.4002 - accuracy: 0.8360\n",
      "Epoch 89/100\n",
      "8000/8000 [==============================] - 1s 73us/step - loss: 0.3999 - accuracy: 0.8329\n",
      "Epoch 90/100\n",
      "8000/8000 [==============================] - 1s 73us/step - loss: 0.4006 - accuracy: 0.8339\n",
      "Epoch 91/100\n",
      "8000/8000 [==============================] - 1s 73us/step - loss: 0.4000 - accuracy: 0.8347\n",
      "Epoch 92/100\n",
      "8000/8000 [==============================] - 1s 73us/step - loss: 0.4003 - accuracy: 0.8330\n",
      "Epoch 93/100\n",
      "8000/8000 [==============================] - 1s 74us/step - loss: 0.4000 - accuracy: 0.8341\n",
      "Epoch 94/100\n",
      "8000/8000 [==============================] - 1s 73us/step - loss: 0.4003 - accuracy: 0.8344 0s - loss: 0.400\n",
      "Epoch 95/100\n",
      "8000/8000 [==============================] - 1s 73us/step - loss: 0.4001 - accuracy: 0.8342\n",
      "Epoch 96/100\n",
      "8000/8000 [==============================] - ETA: 0s - loss: 0.3988 - accuracy: 0.83 - 1s 73us/step - loss: 0.4002 - accuracy: 0.8351\n",
      "Epoch 97/100\n",
      "8000/8000 [==============================] - 1s 74us/step - loss: 0.4000 - accuracy: 0.8335\n",
      "Epoch 98/100\n",
      "8000/8000 [==============================] - 1s 79us/step - loss: 0.4005 - accuracy: 0.8349\n",
      "Epoch 99/100\n",
      "8000/8000 [==============================] - 1s 80us/step - loss: 0.3997 - accuracy: 0.8351\n",
      "Epoch 100/100\n",
      "8000/8000 [==============================] - 1s 84us/step - loss: 0.4001 - accuracy: 0.8357 0s - loss: 0.3\n"
     ]
    },
    {
     "data": {
      "text/plain": [
       "<keras.callbacks.callbacks.History at 0x2d106b694a8>"
      ]
     },
     "execution_count": 19,
     "metadata": {},
     "output_type": "execute_result"
    }
   ],
   "source": [
    "#fitting the ANN to the training dataset\n",
    "ann_classifier.fit(x= x_train, y= y_train, batch_size= 10, epochs= 100)"
   ]
  },
  {
   "cell_type": "code",
   "execution_count": 20,
   "metadata": {},
   "outputs": [
    {
     "data": {
      "text/plain": [
       "array([[0.23745051],\n",
       "       [0.4061626 ],\n",
       "       [0.20519778],\n",
       "       [0.07569614],\n",
       "       [0.20627171]], dtype=float32)"
      ]
     },
     "execution_count": 20,
     "metadata": {},
     "output_type": "execute_result"
    }
   ],
   "source": [
    "#predicting the test set result\n",
    "y_pred= ann_classifier.predict(x_test)\n",
    "y_pred[:5]"
   ]
  },
  {
   "cell_type": "code",
   "execution_count": 21,
   "metadata": {},
   "outputs": [
    {
     "data": {
      "text/plain": [
       "array([[False],\n",
       "       [False],\n",
       "       [False],\n",
       "       [False],\n",
       "       [False]])"
      ]
     },
     "execution_count": 21,
     "metadata": {},
     "output_type": "execute_result"
    }
   ],
   "source": [
    "y_pred= (y_pred>0.5)#considering threshold = 0.5\n",
    "y_pred[:5]"
   ]
  },
  {
   "cell_type": "code",
   "execution_count": 22,
   "metadata": {},
   "outputs": [
    {
     "data": {
      "text/plain": [
       "array([[1521,   74],\n",
       "       [ 239,  166]], dtype=int64)"
      ]
     },
     "execution_count": 22,
     "metadata": {},
     "output_type": "execute_result"
    }
   ],
   "source": [
    "#confusion metrix\n",
    "from sklearn.metrics import confusion_matrix, classification_report\n",
    "ann_cm= confusion_matrix(y_test, y_pred)\n",
    "ann_cm"
   ]
  },
  {
   "cell_type": "code",
   "execution_count": 23,
   "metadata": {},
   "outputs": [
    {
     "name": "stdout",
     "output_type": "stream",
     "text": [
      "              precision    recall  f1-score   support\n",
      "\n",
      "           0       0.86      0.95      0.91      1595\n",
      "           1       0.69      0.41      0.51       405\n",
      "\n",
      "    accuracy                           0.84      2000\n",
      "   macro avg       0.78      0.68      0.71      2000\n",
      "weighted avg       0.83      0.84      0.83      2000\n",
      "\n"
     ]
    }
   ],
   "source": [
    "print(classification_report(y_test, y_pred))"
   ]
  },
  {
   "cell_type": "code",
   "execution_count": 24,
   "metadata": {},
   "outputs": [
    {
     "name": "stdout",
     "output_type": "stream",
     "text": [
      "0.844\n"
     ]
    }
   ],
   "source": [
    "ann_accuracy= sklearn.metrics.accuracy_score(y_test, y_pred).round(3)\n",
    "print(ann_accuracy)"
   ]
  },
  {
   "cell_type": "code",
   "execution_count": 25,
   "metadata": {},
   "outputs": [
    {
     "name": "stderr",
     "output_type": "stream",
     "text": [
      "C:\\Users\\shive\\Anaconda3\\lib\\site-packages\\sklearn\\linear_model\\logistic.py:432: FutureWarning: Default solver will be changed to 'lbfgs' in 0.22. Specify a solver to silence this warning.\n",
      "  FutureWarning)\n"
     ]
    },
    {
     "data": {
      "text/plain": [
       "LogisticRegression(C=1.0, class_weight=None, dual=False, fit_intercept=True,\n",
       "                   intercept_scaling=1, l1_ratio=None, max_iter=100,\n",
       "                   multi_class='warn', n_jobs=None, penalty='l2',\n",
       "                   random_state=0, solver='warn', tol=0.0001, verbose=0,\n",
       "                   warm_start=False)"
      ]
     },
     "execution_count": 25,
     "metadata": {},
     "output_type": "execute_result"
    }
   ],
   "source": [
    "#fitting logistic regression\n",
    "from sklearn.linear_model import LogisticRegression\n",
    "lr_classifier= LogisticRegression(random_state=0)\n",
    "lr_classifier.fit(x_train, y_train)"
   ]
  },
  {
   "cell_type": "code",
   "execution_count": 26,
   "metadata": {},
   "outputs": [
    {
     "data": {
      "text/plain": [
       "array([0, 0, 0, 0, 0], dtype=int64)"
      ]
     },
     "execution_count": 26,
     "metadata": {},
     "output_type": "execute_result"
    }
   ],
   "source": [
    "#predicting\n",
    "lr_y_pred= lr_classifier.predict(x_test)\n",
    "lr_y_pred[:5]"
   ]
  },
  {
   "cell_type": "code",
   "execution_count": 27,
   "metadata": {},
   "outputs": [
    {
     "name": "stdout",
     "output_type": "stream",
     "text": [
      "              precision    recall  f1-score   support\n",
      "\n",
      "           0       0.83      0.96      0.89      1595\n",
      "           1       0.58      0.24      0.34       405\n",
      "\n",
      "    accuracy                           0.81      2000\n",
      "   macro avg       0.71      0.60      0.61      2000\n",
      "weighted avg       0.78      0.81      0.78      2000\n",
      "\n"
     ]
    }
   ],
   "source": [
    "print(classification_report(y_test, lr_y_pred))"
   ]
  },
  {
   "cell_type": "code",
   "execution_count": 28,
   "metadata": {},
   "outputs": [
    {
     "name": "stdout",
     "output_type": "stream",
     "text": [
      "0.811\n"
     ]
    }
   ],
   "source": [
    "lr_accuracy= sklearn.metrics.accuracy_score(y_test, lr_y_pred).round(3)\n",
    "print(lr_accuracy)"
   ]
  },
  {
   "cell_type": "code",
   "execution_count": 29,
   "metadata": {},
   "outputs": [
    {
     "data": {
      "image/png": "[encoded data removed]",
      "text/plain": [
       "<Figure size 432x288 with 1 Axes>"
      ]
     },
     "metadata": {
      "needs_background": "light"
     },
     "output_type": "display_data"
    }
   ],
   "source": [
    "fig = plt.figure()\n",
    "ax = fig.add_axes([0,0,1,1])\n",
    "models = ['Logistic Regression', 'Artificial Neural Network']\n",
    "accuracies = [0.811,0.859]\n",
    "plt.bar(models, accuracies, width= 0.5)\n",
    "plt.title(\"Accuracy Comparison\")\n",
    "plt.ylabel(\"accuracy\")\n",
    "plt.yticks(np.arange(0,1.1,0.1))\n",
    "plt.show()"
   ]
  },
  {
   "cell_type": "code",
   "execution_count": 31,
   "metadata": {},
   "outputs": [
    {
     "name": "stdout",
     "output_type": "stream",
     "text": [
      "[[False]]\n"
     ]
    }
   ],
   "source": [
    "\"\"\"Prediction for customer with following attributes\n",
    "Geography: France\n",
    "Credit Score: 600\n",
    "Gender: Male\n",
    "Age: 40 years old\n",
    "Tenure: 3 years\n",
    "Balance: $60000\n",
    "Number of Products: 2\n",
    "Does this customer have a credit card ? Yes\n",
    "Is this customer an Active Member: Yes\n",
    "Estimated Salary: $50000\"\"\"\n",
    "new_prediction = ann_classifier.predict(sc.transform(np.array([[0.0, 0, 0, 600, 40, 3, 60000, 2, 1, 1, 50000]])))\n",
    "new_prediction= (new_prediction > 0.5)\n",
    "print(new_prediction)"
   ]
  },
  {
   "cell_type": "markdown",
   "metadata": {},
   "source": [
    "# Evaluating, Improving and Tuning the ANN"
   ]
  },
  {
   "cell_type": "code",
   "execution_count": 45,
   "metadata": {},
   "outputs": [],
   "source": [
    "#Evaluating the ANN\n",
    "from keras.wrappers.scikit_learn import KerasClassifier\n",
    "from sklearn.model_selection import cross_val_score\n",
    "\n",
    "def build_ann_classifier():\n",
    "    ann_classifier= Sequential()\n",
    "    ann_classifier.add(Dense(6, activation= \"relu\", kernel_initializer= \"uniform\", input_shape= (11,)))\n",
    "    ann_classifier.add(Dense(6, activation= \"relu\", kernel_initializer= \"uniform\"))\n",
    "    ann_classifier.add(Dense(1, activation= \"sigmoid\", kernel_initializer= \"uniform\"))\n",
    "    ann_classifier.compile(optimizer=\"adam\", loss= \"binary_crossentropy\", metrics= [\"accuracy\"])\n",
    "    return ann_classifier\n"
   ]
  },
  {
   "cell_type": "code",
   "execution_count": 46,
   "metadata": {},
   "outputs": [],
   "source": [
    "ann_classifier= KerasClassifier(build_fn= build_ann_classifier, batch_size= 10, nb_epoch= 100)"
   ]
  },
  {
   "cell_type": "code",
   "execution_count": 47,
   "metadata": {},
   "outputs": [],
   "source": [
    "accuracies= cross_val_score(estimator= ann_classifier, X= x_train, y= y_train, cv=10, n_jobs= -1)"
   ]
  },
  {
   "cell_type": "code",
   "execution_count": 56,
   "metadata": {},
   "outputs": [
    {
     "name": "stdout",
     "output_type": "stream",
     "text": [
      "Mean Accuracy: 0.796\n",
      "Variance: 0.01\n"
     ]
    }
   ],
   "source": [
    "mean= round(accuracies.mean(),3)\n",
    "variance= round(accuracies.std(),3)\n",
    "print(\"Mean Accuracy:\", mean)\n",
    "print(\"Variance:\", variance)"
   ]
  },
  {
   "cell_type": "code",
   "execution_count": 65,
   "metadata": {},
   "outputs": [
    {
     "name": "stdout",
     "output_type": "stream",
     "text": [
      "Epoch 1/1\n",
      "7200/7200 [==============================] - 2s 230us/step - loss: 0.6190 - accuracy: 0.7965\n",
      "Epoch 1/1\n",
      "7200/7200 [==============================] - 2s 233us/step - loss: 0.4888 - accuracy: 0.7968\n",
      "Epoch 1/1\n",
      "7200/7200 [==============================] - 2s 232us/step - loss: 0.5001 - accuracy: 0.7950\n",
      "Epoch 1/1\n",
      "7200/7200 [==============================] - 2s 262us/step - loss: 0.4813 - accuracy: 0.7968\n",
      "Epoch 1/1\n",
      "7200/7200 [==============================] - 2s 247us/step - loss: 0.6199 - accuracy: 0.7932\n",
      "Epoch 1/1\n",
      "7200/7200 [==============================] - 2s 252us/step - loss: 0.5016 - accuracy: 0.7933\n",
      "Epoch 1/1\n",
      "7200/7200 [==============================] - 2s 240us/step - loss: 0.4927 - accuracy: 0.7961\n",
      "Epoch 1/1\n",
      "7200/7200 [==============================] - 2s 224us/step - loss: 0.5153 - accuracy: 0.7989\n",
      "Epoch 1/1\n",
      "7200/7200 [==============================] - 2s 235us/step - loss: 0.4894 - accuracy: 0.7958\n",
      "Epoch 1/1\n",
      "7200/7200 [==============================] - 2s 249us/step - loss: 0.5005 - accuracy: 0.7956\n",
      "Epoch 1/1\n",
      "7200/7200 [==============================] - 3s 367us/step - loss: 0.5100 - accuracy: 0.7962\n",
      "Epoch 1/1\n",
      "7200/7200 [==============================] - 2s 217us/step - loss: 0.5134 - accuracy: 0.7961\n",
      "Epoch 1/1\n",
      "7200/7200 [==============================] - 2s 215us/step - loss: 0.5004 - accuracy: 0.7950\n",
      "Epoch 1/1\n",
      "7200/7200 [==============================] - 2s 209us/step - loss: 0.5226 - accuracy: 0.7968\n",
      "Epoch 1/1\n",
      "7200/7200 [==============================] - 2s 211us/step - loss: 0.5005 - accuracy: 0.7937\n",
      "Epoch 1/1\n",
      "7200/7200 [==============================] - 2s 235us/step - loss: 0.5101 - accuracy: 0.7940\n",
      "Epoch 1/1\n",
      "7200/7200 [==============================] - 1s 202us/step - loss: 0.5087 - accuracy: 0.7964\n",
      "Epoch 1/1\n",
      "7200/7200 [==============================] - 2s 223us/step - loss: 0.4989 - accuracy: 0.7960\n",
      "Epoch 1/1\n",
      "7200/7200 [==============================] - 2s 229us/step - loss: 0.5044 - accuracy: 0.7957\n",
      "Epoch 1/1\n",
      "7200/7200 [==============================] - 2s 221us/step - loss: 0.5113 - accuracy: 0.7961\n",
      "Epoch 1/1\n",
      "7200/7200 [==============================] - 2s 233us/step - loss: 0.4848 - accuracy: 0.7964\n",
      "Epoch 1/1\n",
      "7200/7200 [==============================] - 2s 267us/step - loss: 0.4838 - accuracy: 0.7972\n",
      "Epoch 1/1\n",
      "7200/7200 [==============================] - 3s 368us/step - loss: 0.4874 - accuracy: 0.7956\n",
      "Epoch 1/1\n",
      "7200/7200 [==============================] - 2s 338us/step - loss: 0.4902 - accuracy: 0.7969\n",
      "Epoch 1/1\n",
      "7200/7200 [==============================] - 2s 264us/step - loss: 0.4943 - accuracy: 0.7937\n",
      "Epoch 1/1\n",
      "7200/7200 [==============================] - 2s 224us/step - loss: 0.4857 - accuracy: 0.7940\n",
      "Epoch 1/1\n",
      "7200/7200 [==============================] - 2s 248us/step - loss: 0.5050 - accuracy: 0.7962\n",
      "Epoch 1/1\n",
      "7200/7200 [==============================] - 2s 243us/step - loss: 0.5014 - accuracy: 0.7958\n",
      "Epoch 1/1\n",
      "7200/7200 [==============================] - 2s 230us/step - loss: 0.4985 - accuracy: 0.7947\n",
      "Epoch 1/1\n",
      "7200/7200 [==============================] - 2s 239us/step - loss: 0.4981 - accuracy: 0.7956\n",
      "Epoch 1/1\n",
      "7200/7200 [==============================] - 2s 223us/step - loss: 0.5040 - accuracy: 0.7972\n",
      "Epoch 1/1\n",
      "7200/7200 [==============================] - 2s 235us/step - loss: 0.5035 - accuracy: 0.7958\n",
      "Epoch 1/1\n",
      "7200/7200 [==============================] - 2s 221us/step - loss: 0.5048 - accuracy: 0.7956\n",
      "Epoch 1/1\n",
      "7200/7200 [==============================] - 2s 211us/step - loss: 0.4966 - accuracy: 0.7975\n",
      "Epoch 1/1\n",
      "7200/7200 [==============================] - 2s 215us/step - loss: 0.5129 - accuracy: 0.7929\n",
      "Epoch 1/1\n",
      "7200/7200 [==============================] - 2s 211us/step - loss: 0.5075 - accuracy: 0.7944\n",
      "Epoch 1/1\n",
      "7200/7200 [==============================] - 2s 216us/step - loss: 0.4918 - accuracy: 0.7969\n",
      "Epoch 1/1\n",
      "7200/7200 [==============================] - 2s 210us/step - loss: 0.5030 - accuracy: 0.7958\n",
      "Epoch 1/1\n",
      "7200/7200 [==============================] - 2s 233us/step - loss: 0.4934 - accuracy: 0.7957\n",
      "Epoch 1/1\n",
      "7200/7200 [==============================] - 2s 210us/step - loss: 0.5202 - accuracy: 0.7951\n",
      "Epoch 1/1\n",
      "7200/7200 [==============================] - 2s 235us/step - loss: 0.4915 - accuracy: 0.7969\n",
      "Epoch 1/1\n",
      "7200/7200 [==============================] - 2s 219us/step - loss: 0.4894 - accuracy: 0.7964\n",
      "Epoch 1/1\n",
      "7200/7200 [==============================] - 2s 213us/step - loss: 0.5001 - accuracy: 0.7944\n",
      "Epoch 1/1\n",
      "7200/7200 [==============================] - 2s 230us/step - loss: 0.4917 - accuracy: 0.7971\n",
      "Epoch 1/1\n",
      "7200/7200 [==============================] - 2s 246us/step - loss: 0.4955 - accuracy: 0.7937\n",
      "Epoch 1/1\n",
      "7200/7200 [==============================] - 2s 239us/step - loss: 0.4996 - accuracy: 0.7944\n",
      "Epoch 1/1\n",
      "7200/7200 [==============================] - 2s 221us/step - loss: 0.4877 - accuracy: 0.7967\n",
      "Epoch 1/1\n",
      "7200/7200 [==============================] - 2s 221us/step - loss: 0.4870 - accuracy: 0.7962\n",
      "Epoch 1/1\n",
      "7200/7200 [==============================] - 2s 214us/step - loss: 0.6206 - accuracy: 0.7949\n",
      "Epoch 1/1\n",
      "7200/7200 [==============================] - 2s 254us/step - loss: 0.4902 - accuracy: 0.7961\n",
      "Epoch 1/1\n",
      "7200/7200 [==============================] - 2s 220us/step - loss: 0.4937 - accuracy: 0.7969\n",
      "Epoch 1/1\n",
      "7200/7200 [==============================] - 1s 194us/step - loss: 0.5140 - accuracy: 0.7961\n",
      "Epoch 1/1\n",
      "7200/7200 [==============================] - 1s 207us/step - loss: 0.4986 - accuracy: 0.7956\n",
      "Epoch 1/1\n",
      "7200/7200 [==============================] - 2s 217us/step - loss: 0.5390 - accuracy: 0.7961\n",
      "Epoch 1/1\n",
      "7200/7200 [==============================] - 2s 220us/step - loss: 0.5261 - accuracy: 0.7926\n",
      "Epoch 1/1\n",
      "7200/7200 [==============================] - 2s 241us/step - loss: 0.4952 - accuracy: 0.7942\n",
      "Epoch 1/1\n",
      "7200/7200 [==============================] - 2s 213us/step - loss: 0.5243 - accuracy: 0.7967\n",
      "Epoch 1/1\n",
      "7200/7200 [==============================] - 1s 197us/step - loss: 0.5201 - accuracy: 0.7951\n",
      "Epoch 1/1\n",
      "7200/7200 [==============================] - 1s 203us/step - loss: 0.5053 - accuracy: 0.7957\n",
      "Epoch 1/1\n",
      "7200/7200 [==============================] - 1s 200us/step - loss: 0.5066 - accuracy: 0.7958\n",
      "Epoch 1/1\n",
      "7200/7200 [==============================] - 1s 122us/step - loss: 0.5601 - accuracy: 0.7957\n",
      "Epoch 1/1\n",
      "7200/7200 [==============================] - 1s 120us/step - loss: 0.5604 - accuracy: 0.7960\n",
      "Epoch 1/1\n",
      "7200/7200 [==============================] - 1s 123us/step - loss: 0.5493 - accuracy: 0.7956\n",
      "Epoch 1/1\n",
      "7200/7200 [==============================] - 1s 112us/step - loss: 0.5551 - accuracy: 0.7972\n",
      "Epoch 1/1\n",
      "7200/7200 [==============================] - 1s 121us/step - loss: 0.5651 - accuracy: 0.7925\n",
      "Epoch 1/1\n",
      "7200/7200 [==============================] - 1s 118us/step - loss: 0.5792 - accuracy: 0.7926\n",
      "Epoch 1/1\n",
      "7200/7200 [==============================] - 1s 121us/step - loss: 0.5557 - accuracy: 0.7956\n",
      "Epoch 1/1\n",
      "7200/7200 [==============================] - 1s 116us/step - loss: 0.5536 - accuracy: 0.7961\n",
      "Epoch 1/1\n",
      "7200/7200 [==============================] - 1s 97us/step - loss: 0.5803 - accuracy: 0.7944\n",
      "Epoch 1/1\n",
      "7200/7200 [==============================] - 1s 102us/step - loss: 0.5465 - accuracy: 0.7961\n",
      "Epoch 1/1\n",
      "7200/7200 [==============================] - 1s 105us/step - loss: 0.5898 - accuracy: 0.7950\n",
      "Epoch 1/1\n",
      "7200/7200 [==============================] - 1s 92us/step - loss: 0.5744 - accuracy: 0.7953\n",
      "Epoch 1/1\n",
      "7200/7200 [==============================] - 1s 93us/step - loss: 0.5737 - accuracy: 0.7950\n",
      "Epoch 1/1\n",
      "7200/7200 [==============================] - 1s 92us/step - loss: 0.5865 - accuracy: 0.7967\n",
      "Epoch 1/1\n",
      "7200/7200 [==============================] - 1s 92us/step - loss: 0.5908 - accuracy: 0.7924\n",
      "Epoch 1/1\n",
      "7200/7200 [==============================] - 1s 91us/step - loss: 0.6246 - accuracy: 0.7926\n",
      "Epoch 1/1\n",
      "7200/7200 [==============================] - 1s 95us/step - loss: 0.5731 - accuracy: 0.7969\n",
      "Epoch 1/1\n",
      "7200/7200 [==============================] - 1s 90us/step - loss: 0.5824 - accuracy: 0.7953\n",
      "Epoch 1/1\n",
      "7200/7200 [==============================] - 1s 95us/step - loss: 0.5653 - accuracy: 0.7956\n",
      "Epoch 1/1\n"
     ]
    },
    {
     "name": "stdout",
     "output_type": "stream",
     "text": [
      "7200/7200 [==============================] - 1s 90us/step - loss: 0.5728 - accuracy: 0.7953\n",
      "Epoch 1/1\n",
      "7200/7200 [==============================] - 1s 120us/step - loss: 0.5479 - accuracy: 0.7971\n",
      "Epoch 1/1\n",
      "7200/7200 [==============================] - 1s 109us/step - loss: 0.5653 - accuracy: 0.7960\n",
      "Epoch 1/1\n",
      "7200/7200 [==============================] - 1s 109us/step - loss: 0.5549 - accuracy: 0.7949\n",
      "Epoch 1/1\n",
      "7200/7200 [==============================] - 1s 107us/step - loss: 0.5526 - accuracy: 0.7972\n",
      "Epoch 1/1\n",
      "7200/7200 [==============================] - 1s 105us/step - loss: 0.5818 - accuracy: 0.7926\n",
      "Epoch 1/1\n",
      "7200/7200 [==============================] - 1s 101us/step - loss: 0.5485 - accuracy: 0.7943\n",
      "Epoch 1/1\n",
      "7200/7200 [==============================] - 1s 107us/step - loss: 0.5603 - accuracy: 0.7969\n",
      "Epoch 1/1\n",
      "7200/7200 [==============================] - 1s 155us/step - loss: 0.5654 - accuracy: 0.7950\n",
      "Epoch 1/1\n",
      "7200/7200 [==============================] - 1s 134us/step - loss: 0.5556 - accuracy: 0.7954\n",
      "Epoch 1/1\n",
      "7200/7200 [==============================] - 1s 104us/step - loss: 0.5474 - accuracy: 0.7961\n",
      "Epoch 1/1\n",
      "7200/7200 [==============================] - 1s 116us/step - loss: 0.5850 - accuracy: 0.7964\n",
      "Epoch 1/1\n",
      "7200/7200 [==============================] - 1s 90us/step - loss: 0.5615 - accuracy: 0.7968\n",
      "Epoch 1/1\n",
      "7200/7200 [==============================] - 1s 108us/step - loss: 0.5793 - accuracy: 0.7937\n",
      "Epoch 1/1\n",
      "7200/7200 [==============================] - 1s 93us/step - loss: 0.5858 - accuracy: 0.7964\n",
      "Epoch 1/1\n",
      "7200/7200 [==============================] - 1s 106us/step - loss: 0.5871 - accuracy: 0.7928\n",
      "Epoch 1/1\n",
      "7200/7200 [==============================] - 1s 98us/step - loss: 0.5848 - accuracy: 0.7933\n",
      "Epoch 1/1\n",
      "7200/7200 [==============================] - 1s 95us/step - loss: 0.5758 - accuracy: 0.7964\n",
      "Epoch 1/1\n",
      "7200/7200 [==============================] - 1s 117us/step - loss: 0.6010 - accuracy: 0.7950\n",
      "Epoch 1/1\n",
      "7200/7200 [==============================] - 1s 104us/step - loss: 0.5662 - accuracy: 0.7953\n",
      "Epoch 1/1\n",
      "7200/7200 [==============================] - 1s 118us/step - loss: 0.6188 - accuracy: 0.7946\n",
      "Epoch 1/1\n",
      "7200/7200 [==============================] - 1s 113us/step - loss: 0.5561 - accuracy: 0.7965\n",
      "Epoch 1/1\n",
      "7200/7200 [==============================] - 1s 116us/step - loss: 0.6082 - accuracy: 0.7950\n",
      "Epoch 1/1\n",
      "7200/7200 [==============================] - 1s 107us/step - loss: 0.5557 - accuracy: 0.7953\n",
      "Epoch 1/1\n",
      "7200/7200 [==============================] - 1s 108us/step - loss: 0.5383 - accuracy: 0.7975\n",
      "Epoch 1/1\n",
      "7200/7200 [==============================] - 1s 113us/step - loss: 0.5608 - accuracy: 0.7939\n",
      "Epoch 1/1\n",
      "7200/7200 [==============================] - 1s 128us/step - loss: 0.5498 - accuracy: 0.7944\n",
      "Epoch 1/1\n",
      "7200/7200 [==============================] - 1s 178us/step - loss: 0.5644 - accuracy: 0.7956\n",
      "Epoch 1/1\n",
      "7200/7200 [==============================] - 1s 121us/step - loss: 0.5448 - accuracy: 0.7962\n",
      "Epoch 1/1\n",
      "7200/7200 [==============================] - 1s 126us/step - loss: 0.5619 - accuracy: 0.7935\n",
      "Epoch 1/1\n",
      "7200/7200 [==============================] - 1s 113us/step - loss: 0.5588 - accuracy: 0.7957\n",
      "Epoch 1/1\n",
      "7200/7200 [==============================] - 1s 112us/step - loss: 0.5690 - accuracy: 0.7968\n",
      "Epoch 1/1\n",
      "7200/7200 [==============================] - 1s 105us/step - loss: 0.5697 - accuracy: 0.7957\n",
      "Epoch 1/1\n",
      "7200/7200 [==============================] - 1s 126us/step - loss: 0.5643 - accuracy: 0.7942\n",
      "Epoch 1/1\n",
      "7200/7200 [==============================] - 1s 105us/step - loss: 0.5843 - accuracy: 0.7962\n",
      "Epoch 1/1\n",
      "7200/7200 [==============================] - 1s 108us/step - loss: 0.5885 - accuracy: 0.7929\n",
      "Epoch 1/1\n",
      "7200/7200 [==============================] - 1s 96us/step - loss: 0.6204 - accuracy: 0.7928\n",
      "Epoch 1/1\n",
      "7200/7200 [==============================] - 1s 100us/step - loss: 0.6038 - accuracy: 0.7958\n",
      "Epoch 1/1\n",
      "7200/7200 [==============================] - 1s 102us/step - loss: 0.5796 - accuracy: 0.7937\n",
      "Epoch 1/1\n",
      "7200/7200 [==============================] - 1s 100us/step - loss: 0.5698 - accuracy: 0.7957\n",
      "Epoch 1/1\n",
      "7200/7200 [==============================] - 1s 97us/step - loss: 0.5910 - accuracy: 0.7950\n",
      "Epoch 1/1\n",
      "7200/7200 [==============================] - 1s 96us/step - loss: 0.5790 - accuracy: 0.7967\n",
      "Epoch 1/1\n",
      "7200/7200 [==============================] - 1s 104us/step - loss: 0.6645 - accuracy: 0.7935\n",
      "Epoch 1/1\n",
      "7200/7200 [==============================] - 1s 95us/step - loss: 0.5861 - accuracy: 0.7949\n",
      "Epoch 1/1\n",
      "7200/7200 [==============================] - 1s 148us/step - loss: 0.5841 - accuracy: 0.7968\n",
      "Epoch 1/1\n",
      "7200/7200 [==============================] - 1s 163us/step - loss: 0.5944 - accuracy: 0.7925\n",
      "Epoch 1/1\n",
      "7200/7200 [==============================] - 1s 99us/step - loss: 0.5831 - accuracy: 0.7946\n",
      "Epoch 1/1\n",
      "7200/7200 [==============================] - 1s 151us/step - loss: 0.6003 - accuracy: 0.7953\n",
      "Epoch 1/1\n",
      "7200/7200 [==============================] - 1s 94us/step - loss: 0.6066 - accuracy: 0.7935\n",
      "Epoch 1/1\n",
      "7200/7200 [==============================] - 1s 101us/step - loss: 0.6183 - accuracy: 0.7932\n",
      "Epoch 1/1\n",
      "7200/7200 [==============================] - 1s 96us/step - loss: 0.6308 - accuracy: 0.7937\n",
      "Epoch 1/1\n",
      "7200/7200 [==============================] - 1s 110us/step - loss: 0.6172 - accuracy: 0.7942\n",
      "Epoch 1/1\n",
      "7200/7200 [==============================] - 1s 147us/step - loss: 0.6088 - accuracy: 0.7964\n",
      "Epoch 1/1\n",
      "7200/7200 [==============================] - 1s 84us/step - loss: 0.5885 - accuracy: 0.7954\n",
      "Epoch 1/1\n",
      "7200/7200 [==============================] - 1s 82us/step - loss: 0.6301 - accuracy: 0.7947\n",
      "Epoch 1/1\n",
      "7200/7200 [==============================] - 1s 142us/step - loss: 0.5981 - accuracy: 0.7937\n",
      "Epoch 1/1\n",
      "7200/7200 [==============================] - 1s 83us/step - loss: 0.6211 - accuracy: 0.7935\n",
      "Epoch 1/1\n",
      "7200/7200 [==============================] - 1s 145us/step - loss: 0.6104 - accuracy: 0.7957\n",
      "Epoch 1/1\n",
      "7200/7200 [==============================] - 1s 95us/step - loss: 0.6456 - accuracy: 0.7933\n",
      "Epoch 1/1\n",
      "7200/7200 [==============================] - 1s 92us/step - loss: 0.6289 - accuracy: 0.7947\n",
      "Epoch 1/1\n",
      "7200/7200 [==============================] - 1s 99us/step - loss: 0.6457 - accuracy: 0.7944\n",
      "Epoch 1/1\n",
      "7200/7200 [==============================] - 1s 98us/step - loss: 0.6038 - accuracy: 0.7953\n",
      "Epoch 1/1\n",
      "7200/7200 [==============================] - 1s 92us/step - loss: 0.5779 - accuracy: 0.7943\n",
      "Epoch 1/1\n",
      "7200/7200 [==============================] - 1s 91us/step - loss: 0.6063 - accuracy: 0.7949\n",
      "Epoch 1/1\n",
      "7200/7200 [==============================] - 1s 90us/step - loss: 0.5929 - accuracy: 0.7951\n",
      "Epoch 1/1\n",
      "7200/7200 [==============================] - 1s 108us/step - loss: 0.6046 - accuracy: 0.7904\n",
      "Epoch 1/1\n",
      "7200/7200 [==============================] - 1s 90us/step - loss: 0.5887 - accuracy: 0.7928\n",
      "Epoch 1/1\n",
      "7200/7200 [==============================] - 1s 106us/step - loss: 0.5813 - accuracy: 0.7947\n",
      "Epoch 1/1\n",
      "7200/7200 [==============================] - 1s 97us/step - loss: 0.6335 - accuracy: 0.7942\n",
      "Epoch 1/1\n",
      "7200/7200 [==============================] - 1s 92us/step - loss: 0.5754 - accuracy: 0.7953\n",
      "Epoch 1/1\n",
      "7200/7200 [==============================] - 1s 121us/step - loss: 0.6272 - accuracy: 0.7931\n",
      "Epoch 1/1\n",
      "7200/7200 [==============================] - 1s 99us/step - loss: 0.6424 - accuracy: 0.7951\n",
      "Epoch 1/1\n",
      "7200/7200 [==============================] - 1s 109us/step - loss: 0.6131 - accuracy: 0.7939\n",
      "Epoch 1/1\n",
      "7200/7200 [==============================] - 1s 99us/step - loss: 0.5999 - accuracy: 0.7947\n",
      "Epoch 1/1\n",
      "7200/7200 [==============================] - 1s 92us/step - loss: 0.6144 - accuracy: 0.7939\n",
      "Epoch 1/1\n",
      "7200/7200 [==============================] - 1s 99us/step - loss: 0.6275 - accuracy: 0.7911\n",
      "Epoch 1/1\n",
      "7200/7200 [==============================] - 1s 87us/step - loss: 0.5888 - accuracy: 0.7944\n",
      "Epoch 1/1\n",
      "7200/7200 [==============================] - 1s 112us/step - loss: 0.6137 - accuracy: 0.7947\n",
      "Epoch 1/1\n",
      "7200/7200 [==============================] - 1s 81us/step - loss: 0.5986 - accuracy: 0.7949\n",
      "Epoch 1/1\n"
     ]
    },
    {
     "name": "stdout",
     "output_type": "stream",
     "text": [
      "7200/7200 [==============================] - 1s 113us/step - loss: 0.6196 - accuracy: 0.7936\n",
      "Epoch 1/1\n",
      "7200/7200 [==============================] - 1s 79us/step - loss: 0.5905 - accuracy: 0.7956\n",
      "Epoch 1/1\n",
      "7200/7200 [==============================] - 1s 95us/step - loss: 0.6152 - accuracy: 0.7951\n",
      "Epoch 1/1\n",
      "7200/7200 [==============================] - 1s 88us/step - loss: 0.5793 - accuracy: 0.7950\n",
      "Epoch 1/1\n",
      "7200/7200 [==============================] - 1s 91us/step - loss: 0.6090 - accuracy: 0.7933\n",
      "Epoch 1/1\n",
      "7200/7200 [==============================] - 1s 104us/step - loss: 0.5952 - accuracy: 0.7975\n",
      "Epoch 1/1\n",
      "7200/7200 [==============================] - 1s 192us/step - loss: 0.5905 - accuracy: 0.7933\n",
      "Epoch 1/1\n",
      "7200/7200 [==============================] - 1s 106us/step - loss: 0.5912 - accuracy: 0.7919\n",
      "Epoch 1/1\n",
      "7200/7200 [==============================] - 1s 170us/step - loss: 0.5971 - accuracy: 0.7957\n",
      "Epoch 1/1\n",
      "7200/7200 [==============================] - 1s 189us/step - loss: 0.5710 - accuracy: 0.7961\n",
      "Epoch 1/1\n",
      "7200/7200 [==============================] - 1s 192us/step - loss: 0.5810 - accuracy: 0.7950\n",
      "Epoch 1/1\n",
      "7200/7200 [==============================] - 1s 161us/step - loss: 0.5834 - accuracy: 0.7933\n",
      "Epoch 1/1\n",
      "7200/7200 [==============================] - 1s 102us/step - loss: 0.6233 - accuracy: 0.7951\n",
      "Epoch 1/1\n",
      "7200/7200 [==============================] - 1s 131us/step - loss: 0.6106 - accuracy: 0.7949\n",
      "Epoch 1/1\n",
      "7200/7200 [==============================] - 1s 134us/step - loss: 0.5810 - accuracy: 0.7954\n",
      "Epoch 1/1\n",
      "7200/7200 [==============================] - 1s 187us/step - loss: 0.6095 - accuracy: 0.7968\n",
      "Epoch 1/1\n",
      "7200/7200 [==============================] - 1s 170us/step - loss: 0.6318 - accuracy: 0.7921\n",
      "Epoch 1/1\n",
      "7200/7200 [==============================] - 1s 176us/step - loss: 0.5987 - accuracy: 0.7942\n",
      "Epoch 1/1\n",
      "7200/7200 [==============================] - 1s 94us/step - loss: 0.5950 - accuracy: 0.7958\n",
      "Epoch 1/1\n",
      "7200/7200 [==============================] - 1s 104us/step - loss: 0.5911 - accuracy: 0.7960\n",
      "Epoch 1/1\n",
      "7200/7200 [==============================] - 1s 108us/step - loss: 0.6277 - accuracy: 0.7940\n",
      "Epoch 1/1\n",
      "7200/7200 [==============================] - 1s 183us/step - loss: 0.6050 - accuracy: 0.7958\n",
      "Epoch 1/1\n",
      "8000/8000 [==============================] - 3s 372us/step - loss: 0.4838 - accuracy: 0.7960\n"
     ]
    }
   ],
   "source": [
    "#tuning the ANN\n",
    "from keras.wrappers.scikit_learn import KerasClassifier\n",
    "from sklearn.model_selection import GridSearchCV\n",
    "\n",
    "def build_ann_classifier(optimizer):\n",
    "    ann_classifier= Sequential()\n",
    "    ann_classifier.add(Dense(6, activation= \"relu\", kernel_initializer= \"uniform\", input_shape= (11,)))\n",
    "    ann_classifier.add(Dense(6, activation= \"relu\", kernel_initializer= \"uniform\"))\n",
    "    ann_classifier.add(Dense(1, activation= \"sigmoid\", kernel_initializer= \"uniform\"))\n",
    "    ann_classifier.compile(optimizer=optimizer, loss= \"binary_crossentropy\", metrics= [\"accuracy\"])\n",
    "    return ann_classifier\n",
    "\n",
    "ann_classifier= KerasClassifier(build_fn= build_ann_classifier)\n",
    "parameters= {\"batch_size\": [10, 25, 32],\n",
    "            \"nb_epoch\": [50, 100, 500],\n",
    "            \"optimizer\": [\"adam\", \"rmsprop\"]}\n",
    "grid_search= GridSearchCV(estimator= ann_classifier, \n",
    "                          param_grid= parameters, \n",
    "                          cv= 10,  \n",
    "                          scoring= 'accuracy')\n",
    "grid_search= grid_search.fit(x_train, y_train)\n",
    "best_parameter= grid_search.best_params_\n",
    "best_accuracy= grid_search.best_score_"
   ]
  },
  {
   "cell_type": "code",
   "execution_count": 66,
   "metadata": {},
   "outputs": [
    {
     "data": {
      "text/plain": [
       "0.797875"
      ]
     },
     "execution_count": 66,
     "metadata": {},
     "output_type": "execute_result"
    }
   ],
   "source": [
    "best_accuracy"
   ]
  },
  {
   "cell_type": "code",
   "execution_count": 67,
   "metadata": {},
   "outputs": [
    {
     "data": {
      "text/plain": [
       "{'batch_size': 10, 'nb_epoch': 100, 'optimizer': 'adam'}"
      ]
     },
     "execution_count": 67,
     "metadata": {},
     "output_type": "execute_result"
    }
   ],
   "source": [
    "best_parameter"
   ]
  },
  {
   "cell_type": "code",
   "execution_count": null,
   "metadata": {},
   "outputs": [],
   "source": []
  }
 ],
 "metadata": {
  "kernelspec": {
   "display_name": "Python 3",
   "language": "python",
   "name": "python3"
  },
  "language_info": {
   "codemirror_mode": {
    "name": "ipython",
    "version": 3
   },
   "file_extension": ".py",
   "mimetype": "text/x-python",
   "name": "python",
   "nbconvert_exporter": "python",
   "pygments_lexer": "ipython3",
   "version": "3.7.3"
  }
 },
 "nbformat": 4,
 "nbformat_minor": 2
}
